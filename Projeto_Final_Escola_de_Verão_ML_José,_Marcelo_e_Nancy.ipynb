{
  "nbformat": 4,
  "nbformat_minor": 0,
  "metadata": {
    "colab": {
      "name": "Projeto Final - Escola de Verão - ML - José, Marcelo e Nancy.ipynb",
      "provenance": [],
      "toc_visible": true
    },
    "kernelspec": {
      "name": "python3",
      "display_name": "Python 3"
    }
  },
  "cells": [
    {
      "cell_type": "markdown",
      "metadata": {
        "id": "D_YQZgMpWYSz"
      },
      "source": [
        "# Identificação dos membros do Grupo\r\n",
        "José Dias\r\n",
        "\r\n",
        "Marcelo Fernando Rauber - magcid@gmail.com\r\n",
        "\r\n",
        "Nancy"
      ]
    },
    {
      "cell_type": "markdown",
      "metadata": {
        "id": "PhC52IUeFTYH"
      },
      "source": [
        "# Problema e Dados envolvidos"
      ]
    },
    {
      "cell_type": "markdown",
      "metadata": {
        "id": "gpA9Q1qdG-cH"
      },
      "source": [
        "Nesta atividade, pretende-se auxiliar proprietarios de imóveis a determinar o valor adequado de aluguel de seu imóvel. Não o valor total, mas sim uma estmativa do valor a a ser remetido ao proprietario do imóvel.\r\n",
        "\r\n",
        "\r\n",
        "O Objetivo é a estimativa do valor de alguel efetivo a ser recebido por proprietários de imóveis em cidades Brasileiras baseando-se da na base de dados disponibilizados em https://www.kaggle.com/rubenssjr/brasilian-houses-to-rent?select=houses_to_rent_v2.csv\r\n",
        "\r\n",
        "Variáveis\r\n",
        "    Existem 13 atributos em cada caso do conjunto de dados. Eles são:\r\n",
        "\r\n",
        "    city - Nome da cidade\r\n",
        "\r\n",
        "    area - tamanho em M2 do imóvel\r\n",
        "\r\n",
        "    rooms - quantidade de quartos \r\n",
        "\r\n",
        "    bathroom - quantidade de banheiros\r\n",
        "\r\n",
        "    parking spaces - vagas de garagem \r\n",
        "\r\n",
        "    floor - andar em que está o imóvel\r\n",
        "\r\n",
        "    animal - se aceita animais de estimação\r\n",
        "\r\n",
        "    furniture - Móveis planejados\r\n",
        "    \r\n",
        "    hoa (R$) - Valor do condomíneo\r\n",
        "\r\n",
        "    rent amount (R$) -  Valor do aluguel \r\n",
        "\r\n",
        "    property tax (R$) - IPTU\r\n",
        "\r\n",
        "    fire insurance (R$) - Seguro contra incêncio\r\n",
        "\r\n",
        "    total (R$) - soma das taxas anteriores\r\n",
        "\r\n",
        "      \r\n",
        "\r\n",
        "A avaliação dos modelos será realizada usando Erro médio absoluto MAE (mean absolute error), conforme determinado pelo especialista da área consultado."
      ]
    },
    {
      "cell_type": "markdown",
      "metadata": {
        "id": "2eZd0vSJGz3C"
      },
      "source": [
        "# Visualização do conjunto de dados (análise exploratória básica)\r\n",
        "\r\n"
      ]
    },
    {
      "cell_type": "code",
      "metadata": {
        "id": "iFS7us1KIQsM",
        "colab": {
          "base_uri": "https://localhost:8080/",
          "height": 206
        },
        "outputId": "fa6ba4d6-683b-41eb-866a-bd347945b5a1"
      },
      "source": [
        "#importações comuns e configurações\r\n",
        "import pandas as pd\r\n",
        "import numpy as np\r\n",
        "\r\n",
        "seed = 1211\r\n",
        "np.random.seed(seed)\r\n",
        "\r\n",
        "#descritor_dados\r\n",
        "#Caso não tenha feito ainda, pode ser necessário baixar a base de dados do link acima e fazer upload para o Colab...\r\n",
        "dados = pd.read_csv(\"/content/houses_to_rent_v2.csv\")\r\n",
        "dados.head()\r\n",
        "\r\n"
      ],
      "execution_count": null,
      "outputs": [
        {
          "output_type": "execute_result",
          "data": {
            "text/html": [
              "<div>\n",
              "<style scoped>\n",
              "    .dataframe tbody tr th:only-of-type {\n",
              "        vertical-align: middle;\n",
              "    }\n",
              "\n",
              "    .dataframe tbody tr th {\n",
              "        vertical-align: top;\n",
              "    }\n",
              "\n",
              "    .dataframe thead th {\n",
              "        text-align: right;\n",
              "    }\n",
              "</style>\n",
              "<table border=\"1\" class=\"dataframe\">\n",
              "  <thead>\n",
              "    <tr style=\"text-align: right;\">\n",
              "      <th></th>\n",
              "      <th>city</th>\n",
              "      <th>area</th>\n",
              "      <th>rooms</th>\n",
              "      <th>bathroom</th>\n",
              "      <th>parking spaces</th>\n",
              "      <th>floor</th>\n",
              "      <th>animal</th>\n",
              "      <th>furniture</th>\n",
              "      <th>hoa (R$)</th>\n",
              "      <th>rent amount (R$)</th>\n",
              "      <th>property tax (R$)</th>\n",
              "      <th>fire insurance (R$)</th>\n",
              "      <th>total (R$)</th>\n",
              "    </tr>\n",
              "  </thead>\n",
              "  <tbody>\n",
              "    <tr>\n",
              "      <th>0</th>\n",
              "      <td>São Paulo</td>\n",
              "      <td>70</td>\n",
              "      <td>2</td>\n",
              "      <td>1</td>\n",
              "      <td>1</td>\n",
              "      <td>7</td>\n",
              "      <td>acept</td>\n",
              "      <td>furnished</td>\n",
              "      <td>2065</td>\n",
              "      <td>3300</td>\n",
              "      <td>211</td>\n",
              "      <td>42</td>\n",
              "      <td>5618</td>\n",
              "    </tr>\n",
              "    <tr>\n",
              "      <th>1</th>\n",
              "      <td>São Paulo</td>\n",
              "      <td>320</td>\n",
              "      <td>4</td>\n",
              "      <td>4</td>\n",
              "      <td>0</td>\n",
              "      <td>20</td>\n",
              "      <td>acept</td>\n",
              "      <td>not furnished</td>\n",
              "      <td>1200</td>\n",
              "      <td>4960</td>\n",
              "      <td>1750</td>\n",
              "      <td>63</td>\n",
              "      <td>7973</td>\n",
              "    </tr>\n",
              "    <tr>\n",
              "      <th>2</th>\n",
              "      <td>Porto Alegre</td>\n",
              "      <td>80</td>\n",
              "      <td>1</td>\n",
              "      <td>1</td>\n",
              "      <td>1</td>\n",
              "      <td>6</td>\n",
              "      <td>acept</td>\n",
              "      <td>not furnished</td>\n",
              "      <td>1000</td>\n",
              "      <td>2800</td>\n",
              "      <td>0</td>\n",
              "      <td>41</td>\n",
              "      <td>3841</td>\n",
              "    </tr>\n",
              "    <tr>\n",
              "      <th>3</th>\n",
              "      <td>Porto Alegre</td>\n",
              "      <td>51</td>\n",
              "      <td>2</td>\n",
              "      <td>1</td>\n",
              "      <td>0</td>\n",
              "      <td>2</td>\n",
              "      <td>acept</td>\n",
              "      <td>not furnished</td>\n",
              "      <td>270</td>\n",
              "      <td>1112</td>\n",
              "      <td>22</td>\n",
              "      <td>17</td>\n",
              "      <td>1421</td>\n",
              "    </tr>\n",
              "    <tr>\n",
              "      <th>4</th>\n",
              "      <td>São Paulo</td>\n",
              "      <td>25</td>\n",
              "      <td>1</td>\n",
              "      <td>1</td>\n",
              "      <td>0</td>\n",
              "      <td>1</td>\n",
              "      <td>not acept</td>\n",
              "      <td>not furnished</td>\n",
              "      <td>0</td>\n",
              "      <td>800</td>\n",
              "      <td>25</td>\n",
              "      <td>11</td>\n",
              "      <td>836</td>\n",
              "    </tr>\n",
              "  </tbody>\n",
              "</table>\n",
              "</div>"
            ],
            "text/plain": [
              "           city  area  ...  fire insurance (R$)  total (R$)\n",
              "0     São Paulo    70  ...                   42        5618\n",
              "1     São Paulo   320  ...                   63        7973\n",
              "2  Porto Alegre    80  ...                   41        3841\n",
              "3  Porto Alegre    51  ...                   17        1421\n",
              "4     São Paulo    25  ...                   11         836\n",
              "\n",
              "[5 rows x 13 columns]"
            ]
          },
          "metadata": {
            "tags": []
          },
          "execution_count": 3
        }
      ]
    },
    {
      "cell_type": "code",
      "metadata": {
        "colab": {
          "base_uri": "https://localhost:8080/"
        },
        "id": "V49guM3VZMvV",
        "outputId": "34e02dc5-f14e-4e9b-9ac1-c61c5927a066"
      },
      "source": [
        "#checking the shape\r\n",
        "dados.shape"
      ],
      "execution_count": null,
      "outputs": [
        {
          "output_type": "execute_result",
          "data": {
            "text/plain": [
              "(10692, 13)"
            ]
          },
          "metadata": {
            "tags": []
          },
          "execution_count": 4
        }
      ]
    },
    {
      "cell_type": "code",
      "metadata": {
        "colab": {
          "base_uri": "https://localhost:8080/"
        },
        "id": "VhsTsMAwaG5s",
        "outputId": "7b0b45c1-11ab-4e3b-a6f2-dc0912fda63a"
      },
      "source": [
        "#Procurando valores nulos\r\n",
        "dados.isnull().sum()"
      ],
      "execution_count": null,
      "outputs": [
        {
          "output_type": "execute_result",
          "data": {
            "text/plain": [
              "city                   0\n",
              "area                   0\n",
              "rooms                  0\n",
              "bathroom               0\n",
              "parking spaces         0\n",
              "floor                  0\n",
              "animal                 0\n",
              "furniture              0\n",
              "hoa (R$)               0\n",
              "rent amount (R$)       0\n",
              "property tax (R$)      0\n",
              "fire insurance (R$)    0\n",
              "total (R$)             0\n",
              "dtype: int64"
            ]
          },
          "metadata": {
            "tags": []
          },
          "execution_count": 5
        }
      ]
    },
    {
      "cell_type": "code",
      "metadata": {
        "colab": {
          "base_uri": "https://localhost:8080/"
        },
        "id": "K_cQPei5VTrl",
        "outputId": "c1f4055b-e746-4f72-e7a1-4f626e628917"
      },
      "source": [
        "dados.info()\r\n",
        "#não há campos nulos... todos numéricos... descrição está no inicio..."
      ],
      "execution_count": null,
      "outputs": [
        {
          "output_type": "stream",
          "text": [
            "<class 'pandas.core.frame.DataFrame'>\n",
            "RangeIndex: 10692 entries, 0 to 10691\n",
            "Data columns (total 13 columns):\n",
            " #   Column               Non-Null Count  Dtype \n",
            "---  ------               --------------  ----- \n",
            " 0   city                 10692 non-null  object\n",
            " 1   area                 10692 non-null  int64 \n",
            " 2   rooms                10692 non-null  int64 \n",
            " 3   bathroom             10692 non-null  int64 \n",
            " 4   parking spaces       10692 non-null  int64 \n",
            " 5   floor                10692 non-null  object\n",
            " 6   animal               10692 non-null  object\n",
            " 7   furniture            10692 non-null  object\n",
            " 8   hoa (R$)             10692 non-null  int64 \n",
            " 9   rent amount (R$)     10692 non-null  int64 \n",
            " 10  property tax (R$)    10692 non-null  int64 \n",
            " 11  fire insurance (R$)  10692 non-null  int64 \n",
            " 12  total (R$)           10692 non-null  int64 \n",
            "dtypes: int64(9), object(4)\n",
            "memory usage: 1.1+ MB\n"
          ],
          "name": "stdout"
        }
      ]
    },
    {
      "cell_type": "markdown",
      "metadata": {
        "id": "Pe4nWKd3boR8"
      },
      "source": [
        "city, floor, animal e furniture são objetos, vamos analisá-los e tratá-los na próxima seção."
      ]
    },
    {
      "cell_type": "code",
      "metadata": {
        "colab": {
          "base_uri": "https://localhost:8080/"
        },
        "id": "1WfzOWKMbzmU",
        "outputId": "bb3410c8-7df7-4bc2-9445-f3306ef8a747"
      },
      "source": [
        "dados['city'].unique()"
      ],
      "execution_count": null,
      "outputs": [
        {
          "output_type": "execute_result",
          "data": {
            "text/plain": [
              "array(['São Paulo', 'Porto Alegre', 'Rio de Janeiro', 'Campinas',\n",
              "       'Belo Horizonte'], dtype=object)"
            ]
          },
          "metadata": {
            "tags": []
          },
          "execution_count": 7
        }
      ]
    },
    {
      "cell_type": "markdown",
      "metadata": {
        "id": "IS01z7lBeeZC"
      },
      "source": [
        "As cidades podem ser consideradas como categorias, bastará criar uma matriz esparsa para elas. Será feito na próxima seção."
      ]
    },
    {
      "cell_type": "code",
      "metadata": {
        "colab": {
          "base_uri": "https://localhost:8080/"
        },
        "id": "RK8i4VkMenEZ",
        "outputId": "20f948ae-8867-4f24-defa-d6456293f3fa"
      },
      "source": [
        "dados['floor'].unique()"
      ],
      "execution_count": null,
      "outputs": [
        {
          "output_type": "execute_result",
          "data": {
            "text/plain": [
              "array(['7', '20', '6', '2', '1', '-', '4', '3', '10', '11', '24', '9',\n",
              "       '8', '17', '18', '5', '13', '15', '16', '14', '26', '12', '21',\n",
              "       '19', '22', '27', '23', '35', '25', '46', '28', '29', '301', '51',\n",
              "       '32'], dtype=object)"
            ]
          },
          "metadata": {
            "tags": []
          },
          "execution_count": 8
        }
      ]
    },
    {
      "cell_type": "markdown",
      "metadata": {
        "id": "xhAFg31VezNk"
      },
      "source": [
        "tem um campo com '-', necessário remover. Pela documentação da base de dados indica que é casa. Então podemos assumir como zero. Será feito na próxima seção."
      ]
    },
    {
      "cell_type": "code",
      "metadata": {
        "colab": {
          "base_uri": "https://localhost:8080/"
        },
        "id": "_VopHiv7fK32",
        "outputId": "f5e73c68-d44a-4398-e6b4-5001617917c4"
      },
      "source": [
        "dados['animal'].unique()"
      ],
      "execution_count": null,
      "outputs": [
        {
          "output_type": "execute_result",
          "data": {
            "text/plain": [
              "array(['acept', 'not acept'], dtype=object)"
            ]
          },
          "metadata": {
            "tags": []
          },
          "execution_count": 9
        }
      ]
    },
    {
      "cell_type": "markdown",
      "metadata": {
        "id": "WZcESGG9fRTR"
      },
      "source": [
        "Tranquilo, somente se aceita ou não. Será tratado feito na próxima seção."
      ]
    },
    {
      "cell_type": "code",
      "metadata": {
        "colab": {
          "base_uri": "https://localhost:8080/"
        },
        "id": "-JBX7aptfX-K",
        "outputId": "82946d8c-5af2-449c-d1ab-99f2a4e94747"
      },
      "source": [
        "dados['furniture'].unique()"
      ],
      "execution_count": null,
      "outputs": [
        {
          "output_type": "execute_result",
          "data": {
            "text/plain": [
              "array(['furnished', 'not furnished'], dtype=object)"
            ]
          },
          "metadata": {
            "tags": []
          },
          "execution_count": 10
        }
      ]
    },
    {
      "cell_type": "markdown",
      "metadata": {
        "id": "lGDrEsWxfnKV"
      },
      "source": [
        "Tranquilo, planejado ou não. Será tratado na próxima seção."
      ]
    },
    {
      "cell_type": "code",
      "metadata": {
        "colab": {
          "base_uri": "https://localhost:8080/",
          "height": 300
        },
        "id": "2NJMZwH2Vd36",
        "outputId": "c79a1d88-75d7-42d0-d944-a03c6add03dc"
      },
      "source": [
        "dados.describe()"
      ],
      "execution_count": null,
      "outputs": [
        {
          "output_type": "execute_result",
          "data": {
            "text/html": [
              "<div>\n",
              "<style scoped>\n",
              "    .dataframe tbody tr th:only-of-type {\n",
              "        vertical-align: middle;\n",
              "    }\n",
              "\n",
              "    .dataframe tbody tr th {\n",
              "        vertical-align: top;\n",
              "    }\n",
              "\n",
              "    .dataframe thead th {\n",
              "        text-align: right;\n",
              "    }\n",
              "</style>\n",
              "<table border=\"1\" class=\"dataframe\">\n",
              "  <thead>\n",
              "    <tr style=\"text-align: right;\">\n",
              "      <th></th>\n",
              "      <th>area</th>\n",
              "      <th>rooms</th>\n",
              "      <th>bathroom</th>\n",
              "      <th>parking spaces</th>\n",
              "      <th>hoa (R$)</th>\n",
              "      <th>rent amount (R$)</th>\n",
              "      <th>property tax (R$)</th>\n",
              "      <th>fire insurance (R$)</th>\n",
              "      <th>total (R$)</th>\n",
              "    </tr>\n",
              "  </thead>\n",
              "  <tbody>\n",
              "    <tr>\n",
              "      <th>count</th>\n",
              "      <td>10692.000000</td>\n",
              "      <td>10692.000000</td>\n",
              "      <td>10692.000000</td>\n",
              "      <td>10692.000000</td>\n",
              "      <td>1.069200e+04</td>\n",
              "      <td>10692.000000</td>\n",
              "      <td>10692.000000</td>\n",
              "      <td>10692.000000</td>\n",
              "      <td>1.069200e+04</td>\n",
              "    </tr>\n",
              "    <tr>\n",
              "      <th>mean</th>\n",
              "      <td>149.217920</td>\n",
              "      <td>2.506079</td>\n",
              "      <td>2.236813</td>\n",
              "      <td>1.609147</td>\n",
              "      <td>1.174022e+03</td>\n",
              "      <td>3896.247194</td>\n",
              "      <td>366.704358</td>\n",
              "      <td>53.300879</td>\n",
              "      <td>5.490487e+03</td>\n",
              "    </tr>\n",
              "    <tr>\n",
              "      <th>std</th>\n",
              "      <td>537.016942</td>\n",
              "      <td>1.171266</td>\n",
              "      <td>1.407198</td>\n",
              "      <td>1.589521</td>\n",
              "      <td>1.559231e+04</td>\n",
              "      <td>3408.545518</td>\n",
              "      <td>3107.832321</td>\n",
              "      <td>47.768031</td>\n",
              "      <td>1.648473e+04</td>\n",
              "    </tr>\n",
              "    <tr>\n",
              "      <th>min</th>\n",
              "      <td>11.000000</td>\n",
              "      <td>1.000000</td>\n",
              "      <td>1.000000</td>\n",
              "      <td>0.000000</td>\n",
              "      <td>0.000000e+00</td>\n",
              "      <td>450.000000</td>\n",
              "      <td>0.000000</td>\n",
              "      <td>3.000000</td>\n",
              "      <td>4.990000e+02</td>\n",
              "    </tr>\n",
              "    <tr>\n",
              "      <th>25%</th>\n",
              "      <td>56.000000</td>\n",
              "      <td>2.000000</td>\n",
              "      <td>1.000000</td>\n",
              "      <td>0.000000</td>\n",
              "      <td>1.700000e+02</td>\n",
              "      <td>1530.000000</td>\n",
              "      <td>38.000000</td>\n",
              "      <td>21.000000</td>\n",
              "      <td>2.061750e+03</td>\n",
              "    </tr>\n",
              "    <tr>\n",
              "      <th>50%</th>\n",
              "      <td>90.000000</td>\n",
              "      <td>2.000000</td>\n",
              "      <td>2.000000</td>\n",
              "      <td>1.000000</td>\n",
              "      <td>5.600000e+02</td>\n",
              "      <td>2661.000000</td>\n",
              "      <td>125.000000</td>\n",
              "      <td>36.000000</td>\n",
              "      <td>3.581500e+03</td>\n",
              "    </tr>\n",
              "    <tr>\n",
              "      <th>75%</th>\n",
              "      <td>182.000000</td>\n",
              "      <td>3.000000</td>\n",
              "      <td>3.000000</td>\n",
              "      <td>2.000000</td>\n",
              "      <td>1.237500e+03</td>\n",
              "      <td>5000.000000</td>\n",
              "      <td>375.000000</td>\n",
              "      <td>68.000000</td>\n",
              "      <td>6.768000e+03</td>\n",
              "    </tr>\n",
              "    <tr>\n",
              "      <th>max</th>\n",
              "      <td>46335.000000</td>\n",
              "      <td>13.000000</td>\n",
              "      <td>10.000000</td>\n",
              "      <td>12.000000</td>\n",
              "      <td>1.117000e+06</td>\n",
              "      <td>45000.000000</td>\n",
              "      <td>313700.000000</td>\n",
              "      <td>677.000000</td>\n",
              "      <td>1.120000e+06</td>\n",
              "    </tr>\n",
              "  </tbody>\n",
              "</table>\n",
              "</div>"
            ],
            "text/plain": [
              "               area         rooms  ...  fire insurance (R$)    total (R$)\n",
              "count  10692.000000  10692.000000  ...         10692.000000  1.069200e+04\n",
              "mean     149.217920      2.506079  ...            53.300879  5.490487e+03\n",
              "std      537.016942      1.171266  ...            47.768031  1.648473e+04\n",
              "min       11.000000      1.000000  ...             3.000000  4.990000e+02\n",
              "25%       56.000000      2.000000  ...            21.000000  2.061750e+03\n",
              "50%       90.000000      2.000000  ...            36.000000  3.581500e+03\n",
              "75%      182.000000      3.000000  ...            68.000000  6.768000e+03\n",
              "max    46335.000000     13.000000  ...           677.000000  1.120000e+06\n",
              "\n",
              "[8 rows x 9 columns]"
            ]
          },
          "metadata": {
            "tags": []
          },
          "execution_count": 11
        }
      ]
    },
    {
      "cell_type": "code",
      "metadata": {
        "colab": {
          "base_uri": "https://localhost:8080/",
          "height": 892
        },
        "id": "DuUOON8XWg0n",
        "outputId": "26dc212e-8d8c-46d6-ea49-151bf271a2c0"
      },
      "source": [
        "#apresentar dados em gráficos\r\n",
        "%matplotlib inline\r\n",
        "import matplotlib.pyplot as plt\r\n",
        "dados.hist(bins=50, figsize=(20,15))\r\n",
        "plt.show()"
      ],
      "execution_count": null,
      "outputs": [
        {
          "output_type": "display_data",
          "data": {
            "image/png": "[encoded data removed]",
            "text/plain": [
              "<Figure size 1440x1080 with 9 Axes>"
            ]
          },
          "metadata": {
            "tags": [],
            "needs_background": "light"
          }
        }
      ]
    },
    {
      "cell_type": "markdown",
      "metadata": {
        "id": "6cYQHtavgLZH"
      },
      "source": [
        "Area, HOA, property tax e total parecem ter valores outlayer... o que fazer? Ver com o professor..."
      ]
    },
    {
      "cell_type": "markdown",
      "metadata": {
        "id": "DZEck5v8HsmU"
      },
      "source": [
        "# Preparação do conjunto de dados"
      ]
    },
    {
      "cell_type": "code",
      "metadata": {
        "colab": {
          "base_uri": "https://localhost:8080/"
        },
        "id": "gdvu5gh7pJ_I",
        "outputId": "81888e84-06b7-4cee-f1f9-66da9f8b1255"
      },
      "source": [
        "# Gerando matriz esparsa do campo city - categorias \r\n",
        "matrizEsparsaCidades = pd.get_dummies(dados.city, prefix='cidade')\r\n",
        "matrizEsparsaCidades.sample(n=5, random_state=seed)"
      ],
      "execution_count": null,
      "outputs": [
        {
          "output_type": "execute_result",
          "data": {
            "text/html": [
              "<div>\n",
              "<style scoped>\n",
              "    .dataframe tbody tr th:only-of-type {\n",
              "        vertical-align: middle;\n",
              "    }\n",
              "\n",
              "    .dataframe tbody tr th {\n",
              "        vertical-align: top;\n",
              "    }\n",
              "\n",
              "    .dataframe thead th {\n",
              "        text-align: right;\n",
              "    }\n",
              "</style>\n",
              "<table border=\"1\" class=\"dataframe\">\n",
              "  <thead>\n",
              "    <tr style=\"text-align: right;\">\n",
              "      <th></th>\n",
              "      <th>cidade_Belo Horizonte</th>\n",
              "      <th>cidade_Campinas</th>\n",
              "      <th>cidade_Porto Alegre</th>\n",
              "      <th>cidade_Rio de Janeiro</th>\n",
              "      <th>cidade_São Paulo</th>\n",
              "    </tr>\n",
              "  </thead>\n",
              "  <tbody>\n",
              "    <tr>\n",
              "      <th>3555</th>\n",
              "      <td>0</td>\n",
              "      <td>0</td>\n",
              "      <td>0</td>\n",
              "      <td>1</td>\n",
              "      <td>0</td>\n",
              "    </tr>\n",
              "    <tr>\n",
              "      <th>2461</th>\n",
              "      <td>0</td>\n",
              "      <td>0</td>\n",
              "      <td>0</td>\n",
              "      <td>0</td>\n",
              "      <td>1</td>\n",
              "    </tr>\n",
              "    <tr>\n",
              "      <th>5085</th>\n",
              "      <td>1</td>\n",
              "      <td>0</td>\n",
              "      <td>0</td>\n",
              "      <td>0</td>\n",
              "      <td>0</td>\n",
              "    </tr>\n",
              "    <tr>\n",
              "      <th>1174</th>\n",
              "      <td>0</td>\n",
              "      <td>0</td>\n",
              "      <td>0</td>\n",
              "      <td>1</td>\n",
              "      <td>0</td>\n",
              "    </tr>\n",
              "    <tr>\n",
              "      <th>9651</th>\n",
              "      <td>0</td>\n",
              "      <td>0</td>\n",
              "      <td>0</td>\n",
              "      <td>1</td>\n",
              "      <td>0</td>\n",
              "    </tr>\n",
              "  </tbody>\n",
              "</table>\n",
              "</div>"
            ],
            "text/plain": [
              "      cidade_Belo Horizonte  ...  cidade_São Paulo\n",
              "3555                      0  ...                 0\n",
              "2461                      0  ...                 1\n",
              "5085                      1  ...                 0\n",
              "1174                      0  ...                 0\n",
              "9651                      0  ...                 0\n",
              "\n",
              "[5 rows x 5 columns]"
            ]
          },
          "metadata": {
            "tags": []
          },
          "execution_count": 13
        }
      ]
    },
    {
      "cell_type": "code",
      "metadata": {
        "colab": {
          "base_uri": "https://localhost:8080/"
        },
        "id": "DUwtPUODsV22",
        "outputId": "7b094b90-2c71-47f5-b0e7-b327a1a6015e"
      },
      "source": [
        "#Junta os dados com a matriz esparsa\r\n",
        "dadosPreparados = pd.concat([dados, matrizEsparsaCidades], axis=1) \r\n",
        "dadosPreparados.sample(n=5, random_state=seed)"
      ],
      "execution_count": null,
      "outputs": [
        {
          "output_type": "execute_result",
          "data": {
            "text/html": [
              "<div>\n",
              "<style scoped>\n",
              "    .dataframe tbody tr th:only-of-type {\n",
              "        vertical-align: middle;\n",
              "    }\n",
              "\n",
              "    .dataframe tbody tr th {\n",
              "        vertical-align: top;\n",
              "    }\n",
              "\n",
              "    .dataframe thead th {\n",
              "        text-align: right;\n",
              "    }\n",
              "</style>\n",
              "<table border=\"1\" class=\"dataframe\">\n",
              "  <thead>\n",
              "    <tr style=\"text-align: right;\">\n",
              "      <th></th>\n",
              "      <th>city</th>\n",
              "      <th>area</th>\n",
              "      <th>rooms</th>\n",
              "      <th>bathroom</th>\n",
              "      <th>parking spaces</th>\n",
              "      <th>floor</th>\n",
              "      <th>animal</th>\n",
              "      <th>furniture</th>\n",
              "      <th>hoa (R$)</th>\n",
              "      <th>rent amount (R$)</th>\n",
              "      <th>property tax (R$)</th>\n",
              "      <th>fire insurance (R$)</th>\n",
              "      <th>total (R$)</th>\n",
              "      <th>cidade_Belo Horizonte</th>\n",
              "      <th>cidade_Campinas</th>\n",
              "      <th>cidade_Porto Alegre</th>\n",
              "      <th>cidade_Rio de Janeiro</th>\n",
              "      <th>cidade_São Paulo</th>\n",
              "    </tr>\n",
              "  </thead>\n",
              "  <tbody>\n",
              "    <tr>\n",
              "      <th>3555</th>\n",
              "      <td>Rio de Janeiro</td>\n",
              "      <td>70</td>\n",
              "      <td>2</td>\n",
              "      <td>2</td>\n",
              "      <td>2</td>\n",
              "      <td>3</td>\n",
              "      <td>acept</td>\n",
              "      <td>not furnished</td>\n",
              "      <td>900</td>\n",
              "      <td>1700</td>\n",
              "      <td>265</td>\n",
              "      <td>22</td>\n",
              "      <td>2887</td>\n",
              "      <td>0</td>\n",
              "      <td>0</td>\n",
              "      <td>0</td>\n",
              "      <td>1</td>\n",
              "      <td>0</td>\n",
              "    </tr>\n",
              "    <tr>\n",
              "      <th>2461</th>\n",
              "      <td>São Paulo</td>\n",
              "      <td>60</td>\n",
              "      <td>1</td>\n",
              "      <td>2</td>\n",
              "      <td>1</td>\n",
              "      <td>2</td>\n",
              "      <td>acept</td>\n",
              "      <td>not furnished</td>\n",
              "      <td>1155</td>\n",
              "      <td>4000</td>\n",
              "      <td>112</td>\n",
              "      <td>51</td>\n",
              "      <td>5318</td>\n",
              "      <td>0</td>\n",
              "      <td>0</td>\n",
              "      <td>0</td>\n",
              "      <td>0</td>\n",
              "      <td>1</td>\n",
              "    </tr>\n",
              "    <tr>\n",
              "      <th>5085</th>\n",
              "      <td>Belo Horizonte</td>\n",
              "      <td>260</td>\n",
              "      <td>3</td>\n",
              "      <td>2</td>\n",
              "      <td>4</td>\n",
              "      <td>-</td>\n",
              "      <td>acept</td>\n",
              "      <td>not furnished</td>\n",
              "      <td>0</td>\n",
              "      <td>2600</td>\n",
              "      <td>268</td>\n",
              "      <td>43</td>\n",
              "      <td>2911</td>\n",
              "      <td>1</td>\n",
              "      <td>0</td>\n",
              "      <td>0</td>\n",
              "      <td>0</td>\n",
              "      <td>0</td>\n",
              "    </tr>\n",
              "    <tr>\n",
              "      <th>1174</th>\n",
              "      <td>Rio de Janeiro</td>\n",
              "      <td>30</td>\n",
              "      <td>1</td>\n",
              "      <td>1</td>\n",
              "      <td>0</td>\n",
              "      <td>8</td>\n",
              "      <td>acept</td>\n",
              "      <td>not furnished</td>\n",
              "      <td>456</td>\n",
              "      <td>900</td>\n",
              "      <td>94</td>\n",
              "      <td>12</td>\n",
              "      <td>1462</td>\n",
              "      <td>0</td>\n",
              "      <td>0</td>\n",
              "      <td>0</td>\n",
              "      <td>1</td>\n",
              "      <td>0</td>\n",
              "    </tr>\n",
              "    <tr>\n",
              "      <th>9651</th>\n",
              "      <td>Rio de Janeiro</td>\n",
              "      <td>65</td>\n",
              "      <td>1</td>\n",
              "      <td>1</td>\n",
              "      <td>0</td>\n",
              "      <td>1</td>\n",
              "      <td>acept</td>\n",
              "      <td>not furnished</td>\n",
              "      <td>350</td>\n",
              "      <td>1800</td>\n",
              "      <td>30</td>\n",
              "      <td>24</td>\n",
              "      <td>2204</td>\n",
              "      <td>0</td>\n",
              "      <td>0</td>\n",
              "      <td>0</td>\n",
              "      <td>1</td>\n",
              "      <td>0</td>\n",
              "    </tr>\n",
              "  </tbody>\n",
              "</table>\n",
              "</div>"
            ],
            "text/plain": [
              "                city  area  ...  cidade_Rio de Janeiro  cidade_São Paulo\n",
              "3555  Rio de Janeiro    70  ...                      1                 0\n",
              "2461       São Paulo    60  ...                      0                 1\n",
              "5085  Belo Horizonte   260  ...                      0                 0\n",
              "1174  Rio de Janeiro    30  ...                      1                 0\n",
              "9651  Rio de Janeiro    65  ...                      1                 0\n",
              "\n",
              "[5 rows x 18 columns]"
            ]
          },
          "metadata": {
            "tags": []
          },
          "execution_count": 14
        }
      ]
    },
    {
      "cell_type": "code",
      "metadata": {
        "id": "m8Tl2WsksQ82"
      },
      "source": [
        "# Deleta a coluna original do campo city\r\n",
        "dadosPreparados.drop(['city'], axis=1, inplace=True)"
      ],
      "execution_count": null,
      "outputs": []
    },
    {
      "cell_type": "code",
      "metadata": {
        "colab": {
          "base_uri": "https://localhost:8080/"
        },
        "id": "WpNI65dOjk6r",
        "outputId": "ad63e39f-1d4e-438d-f07a-43dad998c1cd"
      },
      "source": [
        "dadosPreparados.sample(n=5, random_state=seed)"
      ],
      "execution_count": null,
      "outputs": [
        {
          "output_type": "execute_result",
          "data": {
            "text/html": [
              "<div>\n",
              "<style scoped>\n",
              "    .dataframe tbody tr th:only-of-type {\n",
              "        vertical-align: middle;\n",
              "    }\n",
              "\n",
              "    .dataframe tbody tr th {\n",
              "        vertical-align: top;\n",
              "    }\n",
              "\n",
              "    .dataframe thead th {\n",
              "        text-align: right;\n",
              "    }\n",
              "</style>\n",
              "<table border=\"1\" class=\"dataframe\">\n",
              "  <thead>\n",
              "    <tr style=\"text-align: right;\">\n",
              "      <th></th>\n",
              "      <th>area</th>\n",
              "      <th>rooms</th>\n",
              "      <th>bathroom</th>\n",
              "      <th>parking spaces</th>\n",
              "      <th>floor</th>\n",
              "      <th>animal</th>\n",
              "      <th>furniture</th>\n",
              "      <th>hoa (R$)</th>\n",
              "      <th>rent amount (R$)</th>\n",
              "      <th>property tax (R$)</th>\n",
              "      <th>fire insurance (R$)</th>\n",
              "      <th>total (R$)</th>\n",
              "      <th>cidade_Belo Horizonte</th>\n",
              "      <th>cidade_Campinas</th>\n",
              "      <th>cidade_Porto Alegre</th>\n",
              "      <th>cidade_Rio de Janeiro</th>\n",
              "      <th>cidade_São Paulo</th>\n",
              "    </tr>\n",
              "  </thead>\n",
              "  <tbody>\n",
              "    <tr>\n",
              "      <th>3555</th>\n",
              "      <td>70</td>\n",
              "      <td>2</td>\n",
              "      <td>2</td>\n",
              "      <td>2</td>\n",
              "      <td>3</td>\n",
              "      <td>acept</td>\n",
              "      <td>not furnished</td>\n",
              "      <td>900</td>\n",
              "      <td>1700</td>\n",
              "      <td>265</td>\n",
              "      <td>22</td>\n",
              "      <td>2887</td>\n",
              "      <td>0</td>\n",
              "      <td>0</td>\n",
              "      <td>0</td>\n",
              "      <td>1</td>\n",
              "      <td>0</td>\n",
              "    </tr>\n",
              "    <tr>\n",
              "      <th>2461</th>\n",
              "      <td>60</td>\n",
              "      <td>1</td>\n",
              "      <td>2</td>\n",
              "      <td>1</td>\n",
              "      <td>2</td>\n",
              "      <td>acept</td>\n",
              "      <td>not furnished</td>\n",
              "      <td>1155</td>\n",
              "      <td>4000</td>\n",
              "      <td>112</td>\n",
              "      <td>51</td>\n",
              "      <td>5318</td>\n",
              "      <td>0</td>\n",
              "      <td>0</td>\n",
              "      <td>0</td>\n",
              "      <td>0</td>\n",
              "      <td>1</td>\n",
              "    </tr>\n",
              "    <tr>\n",
              "      <th>5085</th>\n",
              "      <td>260</td>\n",
              "      <td>3</td>\n",
              "      <td>2</td>\n",
              "      <td>4</td>\n",
              "      <td>-</td>\n",
              "      <td>acept</td>\n",
              "      <td>not furnished</td>\n",
              "      <td>0</td>\n",
              "      <td>2600</td>\n",
              "      <td>268</td>\n",
              "      <td>43</td>\n",
              "      <td>2911</td>\n",
              "      <td>1</td>\n",
              "      <td>0</td>\n",
              "      <td>0</td>\n",
              "      <td>0</td>\n",
              "      <td>0</td>\n",
              "    </tr>\n",
              "    <tr>\n",
              "      <th>1174</th>\n",
              "      <td>30</td>\n",
              "      <td>1</td>\n",
              "      <td>1</td>\n",
              "      <td>0</td>\n",
              "      <td>8</td>\n",
              "      <td>acept</td>\n",
              "      <td>not furnished</td>\n",
              "      <td>456</td>\n",
              "      <td>900</td>\n",
              "      <td>94</td>\n",
              "      <td>12</td>\n",
              "      <td>1462</td>\n",
              "      <td>0</td>\n",
              "      <td>0</td>\n",
              "      <td>0</td>\n",
              "      <td>1</td>\n",
              "      <td>0</td>\n",
              "    </tr>\n",
              "    <tr>\n",
              "      <th>9651</th>\n",
              "      <td>65</td>\n",
              "      <td>1</td>\n",
              "      <td>1</td>\n",
              "      <td>0</td>\n",
              "      <td>1</td>\n",
              "      <td>acept</td>\n",
              "      <td>not furnished</td>\n",
              "      <td>350</td>\n",
              "      <td>1800</td>\n",
              "      <td>30</td>\n",
              "      <td>24</td>\n",
              "      <td>2204</td>\n",
              "      <td>0</td>\n",
              "      <td>0</td>\n",
              "      <td>0</td>\n",
              "      <td>1</td>\n",
              "      <td>0</td>\n",
              "    </tr>\n",
              "  </tbody>\n",
              "</table>\n",
              "</div>"
            ],
            "text/plain": [
              "      area  rooms  ...  cidade_Rio de Janeiro  cidade_São Paulo\n",
              "3555    70      2  ...                      1                 0\n",
              "2461    60      1  ...                      0                 1\n",
              "5085   260      3  ...                      0                 0\n",
              "1174    30      1  ...                      1                 0\n",
              "9651    65      1  ...                      1                 0\n",
              "\n",
              "[5 rows x 17 columns]"
            ]
          },
          "metadata": {
            "tags": []
          },
          "execution_count": 16
        }
      ]
    },
    {
      "cell_type": "code",
      "metadata": {
        "colab": {
          "base_uri": "https://localhost:8080/"
        },
        "id": "vcwDLbm8rieg",
        "outputId": "e6a2af8f-df0f-431b-f93c-ec27fc999208"
      },
      "source": [
        "#Transformando os campos textuais de sim e não\r\n",
        "from sklearn.preprocessing import LabelEncoder\r\n",
        "le = LabelEncoder()\r\n",
        "dadosPreparados['animal']=le.fit_transform(dadosPreparados['animal'])\r\n",
        "dadosPreparados['furniture']=le.fit_transform(dadosPreparados['furniture'])\r\n",
        "dadosPreparados.sample(n=5, random_state=seed)"
      ],
      "execution_count": null,
      "outputs": [
        {
          "output_type": "execute_result",
          "data": {
            "text/html": [
              "<div>\n",
              "<style scoped>\n",
              "    .dataframe tbody tr th:only-of-type {\n",
              "        vertical-align: middle;\n",
              "    }\n",
              "\n",
              "    .dataframe tbody tr th {\n",
              "        vertical-align: top;\n",
              "    }\n",
              "\n",
              "    .dataframe thead th {\n",
              "        text-align: right;\n",
              "    }\n",
              "</style>\n",
              "<table border=\"1\" class=\"dataframe\">\n",
              "  <thead>\n",
              "    <tr style=\"text-align: right;\">\n",
              "      <th></th>\n",
              "      <th>area</th>\n",
              "      <th>rooms</th>\n",
              "      <th>bathroom</th>\n",
              "      <th>parking spaces</th>\n",
              "      <th>floor</th>\n",
              "      <th>animal</th>\n",
              "      <th>furniture</th>\n",
              "      <th>hoa (R$)</th>\n",
              "      <th>rent amount (R$)</th>\n",
              "      <th>property tax (R$)</th>\n",
              "      <th>fire insurance (R$)</th>\n",
              "      <th>total (R$)</th>\n",
              "      <th>cidade_Belo Horizonte</th>\n",
              "      <th>cidade_Campinas</th>\n",
              "      <th>cidade_Porto Alegre</th>\n",
              "      <th>cidade_Rio de Janeiro</th>\n",
              "      <th>cidade_São Paulo</th>\n",
              "    </tr>\n",
              "  </thead>\n",
              "  <tbody>\n",
              "    <tr>\n",
              "      <th>3555</th>\n",
              "      <td>70</td>\n",
              "      <td>2</td>\n",
              "      <td>2</td>\n",
              "      <td>2</td>\n",
              "      <td>3</td>\n",
              "      <td>0</td>\n",
              "      <td>1</td>\n",
              "      <td>900</td>\n",
              "      <td>1700</td>\n",
              "      <td>265</td>\n",
              "      <td>22</td>\n",
              "      <td>2887</td>\n",
              "      <td>0</td>\n",
              "      <td>0</td>\n",
              "      <td>0</td>\n",
              "      <td>1</td>\n",
              "      <td>0</td>\n",
              "    </tr>\n",
              "    <tr>\n",
              "      <th>2461</th>\n",
              "      <td>60</td>\n",
              "      <td>1</td>\n",
              "      <td>2</td>\n",
              "      <td>1</td>\n",
              "      <td>2</td>\n",
              "      <td>0</td>\n",
              "      <td>1</td>\n",
              "      <td>1155</td>\n",
              "      <td>4000</td>\n",
              "      <td>112</td>\n",
              "      <td>51</td>\n",
              "      <td>5318</td>\n",
              "      <td>0</td>\n",
              "      <td>0</td>\n",
              "      <td>0</td>\n",
              "      <td>0</td>\n",
              "      <td>1</td>\n",
              "    </tr>\n",
              "    <tr>\n",
              "      <th>5085</th>\n",
              "      <td>260</td>\n",
              "      <td>3</td>\n",
              "      <td>2</td>\n",
              "      <td>4</td>\n",
              "      <td>-</td>\n",
              "      <td>0</td>\n",
              "      <td>1</td>\n",
              "      <td>0</td>\n",
              "      <td>2600</td>\n",
              "      <td>268</td>\n",
              "      <td>43</td>\n",
              "      <td>2911</td>\n",
              "      <td>1</td>\n",
              "      <td>0</td>\n",
              "      <td>0</td>\n",
              "      <td>0</td>\n",
              "      <td>0</td>\n",
              "    </tr>\n",
              "    <tr>\n",
              "      <th>1174</th>\n",
              "      <td>30</td>\n",
              "      <td>1</td>\n",
              "      <td>1</td>\n",
              "      <td>0</td>\n",
              "      <td>8</td>\n",
              "      <td>0</td>\n",
              "      <td>1</td>\n",
              "      <td>456</td>\n",
              "      <td>900</td>\n",
              "      <td>94</td>\n",
              "      <td>12</td>\n",
              "      <td>1462</td>\n",
              "      <td>0</td>\n",
              "      <td>0</td>\n",
              "      <td>0</td>\n",
              "      <td>1</td>\n",
              "      <td>0</td>\n",
              "    </tr>\n",
              "    <tr>\n",
              "      <th>9651</th>\n",
              "      <td>65</td>\n",
              "      <td>1</td>\n",
              "      <td>1</td>\n",
              "      <td>0</td>\n",
              "      <td>1</td>\n",
              "      <td>0</td>\n",
              "      <td>1</td>\n",
              "      <td>350</td>\n",
              "      <td>1800</td>\n",
              "      <td>30</td>\n",
              "      <td>24</td>\n",
              "      <td>2204</td>\n",
              "      <td>0</td>\n",
              "      <td>0</td>\n",
              "      <td>0</td>\n",
              "      <td>1</td>\n",
              "      <td>0</td>\n",
              "    </tr>\n",
              "  </tbody>\n",
              "</table>\n",
              "</div>"
            ],
            "text/plain": [
              "      area  rooms  ...  cidade_Rio de Janeiro  cidade_São Paulo\n",
              "3555    70      2  ...                      1                 0\n",
              "2461    60      1  ...                      0                 1\n",
              "5085   260      3  ...                      0                 0\n",
              "1174    30      1  ...                      1                 0\n",
              "9651    65      1  ...                      1                 0\n",
              "\n",
              "[5 rows x 17 columns]"
            ]
          },
          "metadata": {
            "tags": []
          },
          "execution_count": 17
        }
      ]
    },
    {
      "cell_type": "code",
      "metadata": {
        "colab": {
          "base_uri": "https://localhost:8080/"
        },
        "id": "035RbCOIsddX",
        "outputId": "85b4da4d-1fa8-4217-b5f5-8d5a67be7619"
      },
      "source": [
        "#Floor\r\n",
        "dadosPreparados.loc[dadosPreparados['floor'] == '-', 'floor'] = 0\r\n",
        "dadosPreparados['floor'] = dadosPreparados['floor'].astype('int64')\r\n",
        "dadosPreparados.sample(n=5, random_state=seed)\r\n"
      ],
      "execution_count": null,
      "outputs": [
        {
          "output_type": "execute_result",
          "data": {
            "text/html": [
              "<div>\n",
              "<style scoped>\n",
              "    .dataframe tbody tr th:only-of-type {\n",
              "        vertical-align: middle;\n",
              "    }\n",
              "\n",
              "    .dataframe tbody tr th {\n",
              "        vertical-align: top;\n",
              "    }\n",
              "\n",
              "    .dataframe thead th {\n",
              "        text-align: right;\n",
              "    }\n",
              "</style>\n",
              "<table border=\"1\" class=\"dataframe\">\n",
              "  <thead>\n",
              "    <tr style=\"text-align: right;\">\n",
              "      <th></th>\n",
              "      <th>area</th>\n",
              "      <th>rooms</th>\n",
              "      <th>bathroom</th>\n",
              "      <th>parking spaces</th>\n",
              "      <th>floor</th>\n",
              "      <th>animal</th>\n",
              "      <th>furniture</th>\n",
              "      <th>hoa (R$)</th>\n",
              "      <th>rent amount (R$)</th>\n",
              "      <th>property tax (R$)</th>\n",
              "      <th>fire insurance (R$)</th>\n",
              "      <th>total (R$)</th>\n",
              "      <th>cidade_Belo Horizonte</th>\n",
              "      <th>cidade_Campinas</th>\n",
              "      <th>cidade_Porto Alegre</th>\n",
              "      <th>cidade_Rio de Janeiro</th>\n",
              "      <th>cidade_São Paulo</th>\n",
              "    </tr>\n",
              "  </thead>\n",
              "  <tbody>\n",
              "    <tr>\n",
              "      <th>3555</th>\n",
              "      <td>70</td>\n",
              "      <td>2</td>\n",
              "      <td>2</td>\n",
              "      <td>2</td>\n",
              "      <td>3</td>\n",
              "      <td>0</td>\n",
              "      <td>1</td>\n",
              "      <td>900</td>\n",
              "      <td>1700</td>\n",
              "      <td>265</td>\n",
              "      <td>22</td>\n",
              "      <td>2887</td>\n",
              "      <td>0</td>\n",
              "      <td>0</td>\n",
              "      <td>0</td>\n",
              "      <td>1</td>\n",
              "      <td>0</td>\n",
              "    </tr>\n",
              "    <tr>\n",
              "      <th>2461</th>\n",
              "      <td>60</td>\n",
              "      <td>1</td>\n",
              "      <td>2</td>\n",
              "      <td>1</td>\n",
              "      <td>2</td>\n",
              "      <td>0</td>\n",
              "      <td>1</td>\n",
              "      <td>1155</td>\n",
              "      <td>4000</td>\n",
              "      <td>112</td>\n",
              "      <td>51</td>\n",
              "      <td>5318</td>\n",
              "      <td>0</td>\n",
              "      <td>0</td>\n",
              "      <td>0</td>\n",
              "      <td>0</td>\n",
              "      <td>1</td>\n",
              "    </tr>\n",
              "    <tr>\n",
              "      <th>5085</th>\n",
              "      <td>260</td>\n",
              "      <td>3</td>\n",
              "      <td>2</td>\n",
              "      <td>4</td>\n",
              "      <td>0</td>\n",
              "      <td>0</td>\n",
              "      <td>1</td>\n",
              "      <td>0</td>\n",
              "      <td>2600</td>\n",
              "      <td>268</td>\n",
              "      <td>43</td>\n",
              "      <td>2911</td>\n",
              "      <td>1</td>\n",
              "      <td>0</td>\n",
              "      <td>0</td>\n",
              "      <td>0</td>\n",
              "      <td>0</td>\n",
              "    </tr>\n",
              "    <tr>\n",
              "      <th>1174</th>\n",
              "      <td>30</td>\n",
              "      <td>1</td>\n",
              "      <td>1</td>\n",
              "      <td>0</td>\n",
              "      <td>8</td>\n",
              "      <td>0</td>\n",
              "      <td>1</td>\n",
              "      <td>456</td>\n",
              "      <td>900</td>\n",
              "      <td>94</td>\n",
              "      <td>12</td>\n",
              "      <td>1462</td>\n",
              "      <td>0</td>\n",
              "      <td>0</td>\n",
              "      <td>0</td>\n",
              "      <td>1</td>\n",
              "      <td>0</td>\n",
              "    </tr>\n",
              "    <tr>\n",
              "      <th>9651</th>\n",
              "      <td>65</td>\n",
              "      <td>1</td>\n",
              "      <td>1</td>\n",
              "      <td>0</td>\n",
              "      <td>1</td>\n",
              "      <td>0</td>\n",
              "      <td>1</td>\n",
              "      <td>350</td>\n",
              "      <td>1800</td>\n",
              "      <td>30</td>\n",
              "      <td>24</td>\n",
              "      <td>2204</td>\n",
              "      <td>0</td>\n",
              "      <td>0</td>\n",
              "      <td>0</td>\n",
              "      <td>1</td>\n",
              "      <td>0</td>\n",
              "    </tr>\n",
              "  </tbody>\n",
              "</table>\n",
              "</div>"
            ],
            "text/plain": [
              "      area  rooms  ...  cidade_Rio de Janeiro  cidade_São Paulo\n",
              "3555    70      2  ...                      1                 0\n",
              "2461    60      1  ...                      0                 1\n",
              "5085   260      3  ...                      0                 0\n",
              "1174    30      1  ...                      1                 0\n",
              "9651    65      1  ...                      1                 0\n",
              "\n",
              "[5 rows x 17 columns]"
            ]
          },
          "metadata": {
            "tags": []
          },
          "execution_count": 18
        }
      ]
    },
    {
      "cell_type": "code",
      "metadata": {
        "colab": {
          "base_uri": "https://localhost:8080/"
        },
        "id": "YnSXXgpkwB7t",
        "outputId": "d20a1926-d221-4722-cb2d-c1b2ea829479"
      },
      "source": [
        "dadosPreparados.info()"
      ],
      "execution_count": null,
      "outputs": [
        {
          "output_type": "stream",
          "text": [
            "<class 'pandas.core.frame.DataFrame'>\n",
            "RangeIndex: 10692 entries, 0 to 10691\n",
            "Data columns (total 17 columns):\n",
            " #   Column                 Non-Null Count  Dtype\n",
            "---  ------                 --------------  -----\n",
            " 0   area                   10692 non-null  int64\n",
            " 1   rooms                  10692 non-null  int64\n",
            " 2   bathroom               10692 non-null  int64\n",
            " 3   parking spaces         10692 non-null  int64\n",
            " 4   floor                  10692 non-null  int64\n",
            " 5   animal                 10692 non-null  int64\n",
            " 6   furniture              10692 non-null  int64\n",
            " 7   hoa (R$)               10692 non-null  int64\n",
            " 8   rent amount (R$)       10692 non-null  int64\n",
            " 9   property tax (R$)      10692 non-null  int64\n",
            " 10  fire insurance (R$)    10692 non-null  int64\n",
            " 11  total (R$)             10692 non-null  int64\n",
            " 12  cidade_Belo Horizonte  10692 non-null  uint8\n",
            " 13  cidade_Campinas        10692 non-null  uint8\n",
            " 14  cidade_Porto Alegre    10692 non-null  uint8\n",
            " 15  cidade_Rio de Janeiro  10692 non-null  uint8\n",
            " 16  cidade_São Paulo       10692 non-null  uint8\n",
            "dtypes: int64(12), uint8(5)\n",
            "memory usage: 1.0 MB\n"
          ],
          "name": "stdout"
        }
      ]
    },
    {
      "cell_type": "markdown",
      "metadata": {
        "id": "QDaZi15qvjt3"
      },
      "source": [
        "# Seleção/Análise das Features\r\n",
        "Criarei vários conjuntos de dados.\r\n",
        "Depois passarei a avaliar cada um..."
      ]
    },
    {
      "cell_type": "code",
      "metadata": {
        "colab": {
          "base_uri": "https://localhost:8080/"
        },
        "id": "B6advQalvrW3",
        "outputId": "c6558db0-ec76-4927-97f0-ed719625ea60"
      },
      "source": [
        "#Análise da Variância\r\n",
        "dadosPreparados.var()"
      ],
      "execution_count": null,
      "outputs": [
        {
          "output_type": "execute_result",
          "data": {
            "text/plain": [
              "area                     2.883872e+05\n",
              "rooms                    1.371865e+00\n",
              "bathroom                 1.980207e+00\n",
              "parking spaces           2.526576e+00\n",
              "floor                    3.683337e+01\n",
              "animal                   1.728557e-01\n",
              "furniture                1.843448e-01\n",
              "hoa (R$)                 2.431200e+08\n",
              "rent amount (R$)         1.161818e+07\n",
              "property tax (R$)        9.658622e+06\n",
              "fire insurance (R$)      2.281785e+03\n",
              "total (R$)               2.717462e+08\n",
              "cidade_Belo Horizonte    1.038244e-01\n",
              "cidade_Campinas          7.342141e-02\n",
              "cidade_Porto Alegre      9.913821e-02\n",
              "cidade_Rio de Janeiro    1.206886e-01\n",
              "cidade_São Paulo         2.474629e-01\n",
              "dtype: float64"
            ]
          },
          "metadata": {
            "tags": []
          },
          "execution_count": 20
        }
      ]
    },
    {
      "cell_type": "code",
      "metadata": {
        "colab": {
          "base_uri": "https://localhost:8080/"
        },
        "id": "oIRIoJQ5wV3T",
        "outputId": "32a052db-26d6-45f8-f43f-44d4127ea33b"
      },
      "source": [
        "#Features com variância próximas a zero não interferem.\r\n",
        "#Há uma variáncia alta. Ver com professor se mantemos todos as Features.\r\n",
        "\r\n",
        "#dadosFeatuers1 = dadosPreparados.drop(columns=['animal', 'floor'])\r\n",
        "dadosFeatuers1 = dadosPreparados\r\n",
        "dadosFeatuers1.sample(n=10)"
      ],
      "execution_count": null,
      "outputs": [
        {
          "output_type": "execute_result",
          "data": {
            "text/html": [
              "<div>\n",
              "<style scoped>\n",
              "    .dataframe tbody tr th:only-of-type {\n",
              "        vertical-align: middle;\n",
              "    }\n",
              "\n",
              "    .dataframe tbody tr th {\n",
              "        vertical-align: top;\n",
              "    }\n",
              "\n",
              "    .dataframe thead th {\n",
              "        text-align: right;\n",
              "    }\n",
              "</style>\n",
              "<table border=\"1\" class=\"dataframe\">\n",
              "  <thead>\n",
              "    <tr style=\"text-align: right;\">\n",
              "      <th></th>\n",
              "      <th>area</th>\n",
              "      <th>rooms</th>\n",
              "      <th>bathroom</th>\n",
              "      <th>parking spaces</th>\n",
              "      <th>floor</th>\n",
              "      <th>animal</th>\n",
              "      <th>furniture</th>\n",
              "      <th>hoa (R$)</th>\n",
              "      <th>rent amount (R$)</th>\n",
              "      <th>property tax (R$)</th>\n",
              "      <th>fire insurance (R$)</th>\n",
              "      <th>total (R$)</th>\n",
              "      <th>cidade_Belo Horizonte</th>\n",
              "      <th>cidade_Campinas</th>\n",
              "      <th>cidade_Porto Alegre</th>\n",
              "      <th>cidade_Rio de Janeiro</th>\n",
              "      <th>cidade_São Paulo</th>\n",
              "    </tr>\n",
              "  </thead>\n",
              "  <tbody>\n",
              "    <tr>\n",
              "      <th>3555</th>\n",
              "      <td>70</td>\n",
              "      <td>2</td>\n",
              "      <td>2</td>\n",
              "      <td>2</td>\n",
              "      <td>3</td>\n",
              "      <td>0</td>\n",
              "      <td>1</td>\n",
              "      <td>900</td>\n",
              "      <td>1700</td>\n",
              "      <td>265</td>\n",
              "      <td>22</td>\n",
              "      <td>2887</td>\n",
              "      <td>0</td>\n",
              "      <td>0</td>\n",
              "      <td>0</td>\n",
              "      <td>1</td>\n",
              "      <td>0</td>\n",
              "    </tr>\n",
              "    <tr>\n",
              "      <th>2461</th>\n",
              "      <td>60</td>\n",
              "      <td>1</td>\n",
              "      <td>2</td>\n",
              "      <td>1</td>\n",
              "      <td>2</td>\n",
              "      <td>0</td>\n",
              "      <td>1</td>\n",
              "      <td>1155</td>\n",
              "      <td>4000</td>\n",
              "      <td>112</td>\n",
              "      <td>51</td>\n",
              "      <td>5318</td>\n",
              "      <td>0</td>\n",
              "      <td>0</td>\n",
              "      <td>0</td>\n",
              "      <td>0</td>\n",
              "      <td>1</td>\n",
              "    </tr>\n",
              "    <tr>\n",
              "      <th>5085</th>\n",
              "      <td>260</td>\n",
              "      <td>3</td>\n",
              "      <td>2</td>\n",
              "      <td>4</td>\n",
              "      <td>0</td>\n",
              "      <td>0</td>\n",
              "      <td>1</td>\n",
              "      <td>0</td>\n",
              "      <td>2600</td>\n",
              "      <td>268</td>\n",
              "      <td>43</td>\n",
              "      <td>2911</td>\n",
              "      <td>1</td>\n",
              "      <td>0</td>\n",
              "      <td>0</td>\n",
              "      <td>0</td>\n",
              "      <td>0</td>\n",
              "    </tr>\n",
              "    <tr>\n",
              "      <th>1174</th>\n",
              "      <td>30</td>\n",
              "      <td>1</td>\n",
              "      <td>1</td>\n",
              "      <td>0</td>\n",
              "      <td>8</td>\n",
              "      <td>0</td>\n",
              "      <td>1</td>\n",
              "      <td>456</td>\n",
              "      <td>900</td>\n",
              "      <td>94</td>\n",
              "      <td>12</td>\n",
              "      <td>1462</td>\n",
              "      <td>0</td>\n",
              "      <td>0</td>\n",
              "      <td>0</td>\n",
              "      <td>1</td>\n",
              "      <td>0</td>\n",
              "    </tr>\n",
              "    <tr>\n",
              "      <th>9651</th>\n",
              "      <td>65</td>\n",
              "      <td>1</td>\n",
              "      <td>1</td>\n",
              "      <td>0</td>\n",
              "      <td>1</td>\n",
              "      <td>0</td>\n",
              "      <td>1</td>\n",
              "      <td>350</td>\n",
              "      <td>1800</td>\n",
              "      <td>30</td>\n",
              "      <td>24</td>\n",
              "      <td>2204</td>\n",
              "      <td>0</td>\n",
              "      <td>0</td>\n",
              "      <td>0</td>\n",
              "      <td>1</td>\n",
              "      <td>0</td>\n",
              "    </tr>\n",
              "    <tr>\n",
              "      <th>2168</th>\n",
              "      <td>240</td>\n",
              "      <td>3</td>\n",
              "      <td>3</td>\n",
              "      <td>4</td>\n",
              "      <td>6</td>\n",
              "      <td>0</td>\n",
              "      <td>0</td>\n",
              "      <td>2600</td>\n",
              "      <td>5500</td>\n",
              "      <td>1834</td>\n",
              "      <td>70</td>\n",
              "      <td>10000</td>\n",
              "      <td>0</td>\n",
              "      <td>0</td>\n",
              "      <td>0</td>\n",
              "      <td>0</td>\n",
              "      <td>1</td>\n",
              "    </tr>\n",
              "    <tr>\n",
              "      <th>8882</th>\n",
              "      <td>80</td>\n",
              "      <td>3</td>\n",
              "      <td>2</td>\n",
              "      <td>1</td>\n",
              "      <td>5</td>\n",
              "      <td>0</td>\n",
              "      <td>1</td>\n",
              "      <td>1150</td>\n",
              "      <td>1450</td>\n",
              "      <td>0</td>\n",
              "      <td>19</td>\n",
              "      <td>2619</td>\n",
              "      <td>0</td>\n",
              "      <td>0</td>\n",
              "      <td>0</td>\n",
              "      <td>1</td>\n",
              "      <td>0</td>\n",
              "    </tr>\n",
              "    <tr>\n",
              "      <th>6497</th>\n",
              "      <td>58</td>\n",
              "      <td>2</td>\n",
              "      <td>2</td>\n",
              "      <td>1</td>\n",
              "      <td>12</td>\n",
              "      <td>1</td>\n",
              "      <td>0</td>\n",
              "      <td>928</td>\n",
              "      <td>4000</td>\n",
              "      <td>256</td>\n",
              "      <td>51</td>\n",
              "      <td>5235</td>\n",
              "      <td>0</td>\n",
              "      <td>0</td>\n",
              "      <td>0</td>\n",
              "      <td>0</td>\n",
              "      <td>1</td>\n",
              "    </tr>\n",
              "    <tr>\n",
              "      <th>2224</th>\n",
              "      <td>38</td>\n",
              "      <td>1</td>\n",
              "      <td>1</td>\n",
              "      <td>0</td>\n",
              "      <td>1</td>\n",
              "      <td>1</td>\n",
              "      <td>1</td>\n",
              "      <td>60</td>\n",
              "      <td>950</td>\n",
              "      <td>0</td>\n",
              "      <td>13</td>\n",
              "      <td>1023</td>\n",
              "      <td>0</td>\n",
              "      <td>0</td>\n",
              "      <td>0</td>\n",
              "      <td>0</td>\n",
              "      <td>1</td>\n",
              "    </tr>\n",
              "    <tr>\n",
              "      <th>2494</th>\n",
              "      <td>44</td>\n",
              "      <td>1</td>\n",
              "      <td>1</td>\n",
              "      <td>0</td>\n",
              "      <td>1</td>\n",
              "      <td>0</td>\n",
              "      <td>0</td>\n",
              "      <td>360</td>\n",
              "      <td>1600</td>\n",
              "      <td>0</td>\n",
              "      <td>21</td>\n",
              "      <td>1981</td>\n",
              "      <td>0</td>\n",
              "      <td>0</td>\n",
              "      <td>0</td>\n",
              "      <td>1</td>\n",
              "      <td>0</td>\n",
              "    </tr>\n",
              "  </tbody>\n",
              "</table>\n",
              "</div>"
            ],
            "text/plain": [
              "      area  rooms  ...  cidade_Rio de Janeiro  cidade_São Paulo\n",
              "3555    70      2  ...                      1                 0\n",
              "2461    60      1  ...                      0                 1\n",
              "5085   260      3  ...                      0                 0\n",
              "1174    30      1  ...                      1                 0\n",
              "9651    65      1  ...                      1                 0\n",
              "2168   240      3  ...                      0                 1\n",
              "8882    80      3  ...                      1                 0\n",
              "6497    58      2  ...                      0                 1\n",
              "2224    38      1  ...                      0                 1\n",
              "2494    44      1  ...                      1                 0\n",
              "\n",
              "[10 rows x 17 columns]"
            ]
          },
          "metadata": {
            "tags": []
          },
          "execution_count": 21
        }
      ]
    },
    {
      "cell_type": "code",
      "metadata": {
        "colab": {
          "base_uri": "https://localhost:8080/"
        },
        "id": "RwNGxagd6e3D",
        "outputId": "1b5ac08d-a3fb-4496-9507-196f59837f64"
      },
      "source": [
        "#Análise da Correlação\r\n",
        "\r\n",
        "#O esperado é uma correlação alta. O que tiver correlação baixa pode ser excluído. Tipicamente correlações superiores a 0.8 (em módulo) ?\r\n",
        "\r\n",
        "#Visualizando graficamente\r\n",
        "import seaborn as sn\r\n",
        "import matplotlib.pyplot as plt2\r\n",
        "sn.heatmap(dadosFeatuers1.corr())\r\n",
        "plt2.show"
      ],
      "execution_count": null,
      "outputs": [
        {
          "output_type": "execute_result",
          "data": {
            "text/plain": [
              "<function matplotlib.pyplot.show>"
            ]
          },
          "metadata": {
            "tags": []
          },
          "execution_count": 22
        },
        {
          "output_type": "display_data",
          "data": {
            "image/png": "[encoded data removed]",
            "text/plain": [
              "<Figure size 432x288 with 2 Axes>"
            ]
          },
          "metadata": {
            "tags": [],
            "needs_background": "light"
          }
        }
      ]
    },
    {
      "cell_type": "markdown",
      "metadata": {
        "id": "7xzavtH0xMHq"
      },
      "source": [
        "Forte correlação entre:\r\n",
        "- valor total e condomíneo (HOA) \r\n",
        "- seguro contra incencio e valor do aluguel"
      ]
    },
    {
      "cell_type": "code",
      "metadata": {
        "colab": {
          "base_uri": "https://localhost:8080/"
        },
        "id": "y5XVfZ_C2yPx",
        "outputId": "2704cacb-1edc-4682-9915-4424b554bb89"
      },
      "source": [
        "#Análise da Correlação das Features com o objetivo, neste caso é o valor do aluguel e o total\r\n",
        "corr = abs(dadosFeatuers1.corr()[\"total (R$)\"])\r\n",
        "corr.sort_values(axis=0)"
      ],
      "execution_count": null,
      "outputs": [
        {
          "output_type": "execute_result",
          "data": {
            "text/plain": [
              "animal                   0.007143\n",
              "cidade_Belo Horizonte    0.018271\n",
              "cidade_Rio de Janeiro    0.021545\n",
              "floor                    0.036431\n",
              "furniture                0.037781\n",
              "cidade_Campinas          0.041391\n",
              "area                     0.051799\n",
              "cidade_Porto Alegre      0.053763\n",
              "cidade_São Paulo         0.059786\n",
              "rooms                    0.134597\n",
              "parking spaces           0.148684\n",
              "bathroom                 0.208339\n",
              "property tax (R$)        0.218344\n",
              "fire insurance (R$)      0.254911\n",
              "rent amount (R$)         0.264490\n",
              "hoa (R$)                 0.955024\n",
              "total (R$)               1.000000\n",
              "Name: total (R$), dtype: float64"
            ]
          },
          "metadata": {
            "tags": []
          },
          "execution_count": 23
        }
      ]
    },
    {
      "cell_type": "markdown",
      "metadata": {
        "id": "3iZLrNit21V5"
      },
      "source": [
        "Ficaria apenas:  Condominio - hoa (R$) com  0.955024"
      ]
    },
    {
      "cell_type": "code",
      "metadata": {
        "colab": {
          "base_uri": "https://localhost:8080/"
        },
        "id": "ynojNM-D1zmH",
        "outputId": "cb307336-f239-4253-e198-dc74d8164725"
      },
      "source": [
        "corr2 = abs(dadosFeatuers1.corr()[\"rent amount (R$)\"])\r\n",
        "corr2.sort_values(axis=0)"
      ],
      "execution_count": null,
      "outputs": [
        {
          "output_type": "execute_result",
          "data": {
            "text/plain": [
              "cidade_Belo Horizonte    0.024869\n",
              "hoa (R$)                 0.036490\n",
              "animal                   0.067754\n",
              "floor                    0.073596\n",
              "cidade_Rio de Janeiro    0.078650\n",
              "property tax (R$)        0.107884\n",
              "cidade_Campinas          0.132342\n",
              "cidade_Porto Alegre      0.162051\n",
              "furniture                0.164235\n",
              "area                     0.180742\n",
              "cidade_São Paulo         0.245690\n",
              "total (R$)               0.264490\n",
              "rooms                    0.541758\n",
              "parking spaces           0.578361\n",
              "bathroom                 0.668504\n",
              "fire insurance (R$)      0.987343\n",
              "rent amount (R$)         1.000000\n",
              "Name: rent amount (R$), dtype: float64"
            ]
          },
          "metadata": {
            "tags": []
          },
          "execution_count": 24
        }
      ]
    },
    {
      "cell_type": "markdown",
      "metadata": {
        "id": "q9_J5VU-3CzH"
      },
      "source": [
        "Ficariam apenas:\r\n",
        "rooms                    0.541758\r\n",
        "parking spaces           0.578361\r\n",
        "bathroom                 0.668504\r\n",
        "fire insurance (R$)      0.987343"
      ]
    },
    {
      "cell_type": "code",
      "metadata": {
        "colab": {
          "base_uri": "https://localhost:8080/"
        },
        "id": "v7AsXKHi-7X5",
        "outputId": "e0a800fb-4319-4ab8-d762-8f3a21dbd0b5"
      },
      "source": [
        "#O que tiver correlação baixa pode ser excluído. Neste caso estou assumindo como ponto de corte 0,5\r\n",
        "#estou assumindo também que iremos determinar o valor do aluguel, e não o valor total.\r\n",
        "print (\"Features a serem excluídas\")\r\n",
        "#i is index \r\n",
        "#v is value\r\n",
        "dadosFeatuers2 = dadosFeatuers1;\r\n",
        "for i, v in corr2.items():\r\n",
        "  if v<0.5:\r\n",
        "     dadosFeatuers2 = dadosFeatuers2.drop(columns=i)\r\n",
        "     print(\"Excluído: \",  i , v)\r\n",
        "           \r\n",
        "print (\"fim das Features excluídas\")\r\n",
        "print ()\r\n",
        "print ('Amostra das Features atuais')\r\n",
        "dadosFeatuers2.sample(n=10)"
      ],
      "execution_count": null,
      "outputs": [
        {
          "output_type": "stream",
          "text": [
            "Features a serem excluídas\n",
            "Excluído:  area 0.18074233055311728\n",
            "Excluído:  floor 0.0735962792056551\n",
            "Excluído:  animal 0.06775419578955871\n",
            "Excluído:  furniture 0.16423511170411303\n",
            "Excluído:  hoa (R$) 0.03648965091996407\n",
            "Excluído:  property tax (R$) 0.10788421644741146\n",
            "Excluído:  total (R$) 0.26448961897349027\n",
            "Excluído:  cidade_Belo Horizonte 0.02486879181961598\n",
            "Excluído:  cidade_Campinas 0.13234168769121668\n",
            "Excluído:  cidade_Porto Alegre 0.1620512820733806\n",
            "Excluído:  cidade_Rio de Janeiro 0.07864994281804268\n",
            "Excluído:  cidade_São Paulo 0.24568984799388024\n",
            "fim das Features excluídas\n",
            "\n",
            "Amostra das Features atuais\n"
          ],
          "name": "stdout"
        },
        {
          "output_type": "execute_result",
          "data": {
            "text/html": [
              "<div>\n",
              "<style scoped>\n",
              "    .dataframe tbody tr th:only-of-type {\n",
              "        vertical-align: middle;\n",
              "    }\n",
              "\n",
              "    .dataframe tbody tr th {\n",
              "        vertical-align: top;\n",
              "    }\n",
              "\n",
              "    .dataframe thead th {\n",
              "        text-align: right;\n",
              "    }\n",
              "</style>\n",
              "<table border=\"1\" class=\"dataframe\">\n",
              "  <thead>\n",
              "    <tr style=\"text-align: right;\">\n",
              "      <th></th>\n",
              "      <th>rooms</th>\n",
              "      <th>bathroom</th>\n",
              "      <th>parking spaces</th>\n",
              "      <th>rent amount (R$)</th>\n",
              "      <th>fire insurance (R$)</th>\n",
              "    </tr>\n",
              "  </thead>\n",
              "  <tbody>\n",
              "    <tr>\n",
              "      <th>7440</th>\n",
              "      <td>2</td>\n",
              "      <td>2</td>\n",
              "      <td>1</td>\n",
              "      <td>1950</td>\n",
              "      <td>26</td>\n",
              "    </tr>\n",
              "    <tr>\n",
              "      <th>164</th>\n",
              "      <td>1</td>\n",
              "      <td>1</td>\n",
              "      <td>1</td>\n",
              "      <td>2529</td>\n",
              "      <td>39</td>\n",
              "    </tr>\n",
              "    <tr>\n",
              "      <th>3459</th>\n",
              "      <td>2</td>\n",
              "      <td>1</td>\n",
              "      <td>0</td>\n",
              "      <td>1030</td>\n",
              "      <td>17</td>\n",
              "    </tr>\n",
              "    <tr>\n",
              "      <th>6594</th>\n",
              "      <td>3</td>\n",
              "      <td>2</td>\n",
              "      <td>3</td>\n",
              "      <td>5100</td>\n",
              "      <td>75</td>\n",
              "    </tr>\n",
              "    <tr>\n",
              "      <th>1850</th>\n",
              "      <td>1</td>\n",
              "      <td>1</td>\n",
              "      <td>1</td>\n",
              "      <td>800</td>\n",
              "      <td>12</td>\n",
              "    </tr>\n",
              "    <tr>\n",
              "      <th>6233</th>\n",
              "      <td>2</td>\n",
              "      <td>4</td>\n",
              "      <td>0</td>\n",
              "      <td>3000</td>\n",
              "      <td>39</td>\n",
              "    </tr>\n",
              "    <tr>\n",
              "      <th>7639</th>\n",
              "      <td>1</td>\n",
              "      <td>1</td>\n",
              "      <td>1</td>\n",
              "      <td>825</td>\n",
              "      <td>11</td>\n",
              "    </tr>\n",
              "    <tr>\n",
              "      <th>4897</th>\n",
              "      <td>3</td>\n",
              "      <td>3</td>\n",
              "      <td>3</td>\n",
              "      <td>3500</td>\n",
              "      <td>53</td>\n",
              "    </tr>\n",
              "    <tr>\n",
              "      <th>1134</th>\n",
              "      <td>3</td>\n",
              "      <td>2</td>\n",
              "      <td>2</td>\n",
              "      <td>2600</td>\n",
              "      <td>33</td>\n",
              "    </tr>\n",
              "    <tr>\n",
              "      <th>6127</th>\n",
              "      <td>3</td>\n",
              "      <td>3</td>\n",
              "      <td>3</td>\n",
              "      <td>5740</td>\n",
              "      <td>87</td>\n",
              "    </tr>\n",
              "  </tbody>\n",
              "</table>\n",
              "</div>"
            ],
            "text/plain": [
              "      rooms  bathroom  parking spaces  rent amount (R$)  fire insurance (R$)\n",
              "7440      2         2               1              1950                   26\n",
              "164       1         1               1              2529                   39\n",
              "3459      2         1               0              1030                   17\n",
              "6594      3         2               3              5100                   75\n",
              "1850      1         1               1               800                   12\n",
              "6233      2         4               0              3000                   39\n",
              "7639      1         1               1               825                   11\n",
              "4897      3         3               3              3500                   53\n",
              "1134      3         2               2              2600                   33\n",
              "6127      3         3               3              5740                   87"
            ]
          },
          "metadata": {
            "tags": []
          },
          "execution_count": 25
        }
      ]
    },
    {
      "cell_type": "markdown",
      "metadata": {
        "id": "Bsek_g4iHloK"
      },
      "source": [
        "# Separação do conjunto em treino e teste"
      ]
    },
    {
      "cell_type": "code",
      "metadata": {
        "id": "J2SF_UHlg9Th"
      },
      "source": [
        "from sklearn.model_selection import train_test_split\r\n",
        "#Features2\r\n",
        "dadosTreinamento_F2, dadosTeste_F2 = train_test_split(dadosFeatuers2, test_size=0.2, random_state=seed)\r\n",
        "#Features1 - No primeiro momento ficou igual aos dados preparados, pois nada foi excluído\r\n",
        "dadosTreinamento_F1, dadosTeste_F1 = train_test_split(dadosFeatuers1, test_size=0.2, random_state=seed)\r\n",
        "#Features Originais, preparados \r\n",
        "dadosTreinamento_Ori, dadosTeste_Ori = train_test_split(dadosPreparados, test_size=0.2, random_state=seed)\r\n"
      ],
      "execution_count": null,
      "outputs": []
    },
    {
      "cell_type": "markdown",
      "metadata": {
        "id": "3F9kemh8H08y"
      },
      "source": [
        "# Treinando os modelos\r\n",
        "\r\n",
        "Comparando alguns modelos de machine learning e algumas configuração de hiperparâmetros, justificando a escola do melhor modelo."
      ]
    },
    {
      "cell_type": "code",
      "metadata": {
        "id": "o0t2IBD3qPD7"
      },
      "source": [
        "from sklearn.preprocessing import StandardScaler\r\n",
        "from sklearn.pipeline import make_pipeline\r\n",
        "# Métrica a ser usada: Erro médio absoluto MAE (mean absolute error), definida pelo especialista\r\n",
        "from sklearn.metrics import mean_absolute_error, mean_squared_error\r\n",
        "#Também R2, Nesse caso, expressa a quantidade da variância dos dados que é explicada pelo modelo linear. Assim, quanto maior o R², mais explicativo é o modelo linear, ou seja, melhor ele se ajusta à amostra. Por exemplo, um R² = 0,8234 significa que o modelo linear explica 82,34% da variância da variável dependente a partir do regressores (variáveis independentes) incluídas naquele modelo linear. \r\n",
        "from sklearn.metrics import r2_score\r\n",
        "from sklearn.model_selection import KFold, cross_val_predict\r\n",
        "from math import sqrt\r\n",
        "\r\n",
        "cross_validation = KFold (n_splits=10, shuffle=True, random_state=seed) #aqui fiquei em dúvida, pelo que li na documentação, usando o kfold não seria necessário separar o DataSet em Treino e teste, ele mesmo faz isso. Mas já que eu separei vou anter aqui...\r\n",
        "avaliacaoModelos = [] \r\n"
      ],
      "execution_count": null,
      "outputs": []
    },
    {
      "cell_type": "code",
      "metadata": {
        "id": "e6Vj57XctbG1"
      },
      "source": [
        "avaliacaoModelos = []\r\n",
        "# MODELO: Regressão Linear\r\n",
        "from sklearn.linear_model import LinearRegression\r\n",
        "modelo = \"Regressão Linear\"\r\n",
        "pipeline = make_pipeline (StandardScaler(), LinearRegression())\r\n",
        "\r\n",
        "#Treinando e avaliando Feature 2\r\n",
        "origem = \"Features 2\"\r\n",
        "X = dadosTreinamento_F2.drop(columns=\"rent amount (R$)\")\r\n",
        "y = dadosTreinamento_F2[\"rent amount (R$)\"]\r\n",
        "predicao_y = cross_val_predict (pipeline, X, y, cv=cross_validation)\r\n",
        "MAE = round((mean_absolute_error(y,predicao_y)),3)\r\n",
        "RMSE = round(sqrt(mean_squared_error(y,predicao_y)),3)\r\n",
        "R2 = round(r2_score(y,predicao_y)*100,2)\r\n",
        "avaliacaoModelos.append([modelo, origem, MAE, RMSE, R2])\r\n",
        "\r\n",
        "\r\n",
        "#Treinando e avaliando Feature 1\r\n",
        "# origem = \"Features 1\"\r\n",
        "# X = dadosTreinamento_F1.drop(columns=\"rent amount (R$)\")\r\n",
        "# y = dadosTreinamento_F1[\"rent amount (R$)\"]\r\n",
        "# predicao_y = cross_val_predict (pipeline, X, y, cv=cross_validation)\r\n",
        "# MAE = round((mean_absolute_error(y,predicao_y)),3)\r\n",
        "# RMSE = round(sqrt(mean_squared_error(y,predicao_y)),3)\r\n",
        "# R2 = round(r2_score(y,predicao_y)*100,2)\r\n",
        "# avaliacaoModelos.append([modelo, origem, MAE, RMSE, R2])\r\n",
        "\r\n",
        "#Treinando e avaliando Todas as Features \r\n",
        "origem = \"Todas as Features\"\r\n",
        "X = dadosTreinamento_Ori.drop(columns=\"rent amount (R$)\")\r\n",
        "y = dadosTreinamento_Ori[\"rent amount (R$)\"]\r\n",
        "predicao_y = cross_val_predict (pipeline, X, y, cv=cross_validation)\r\n",
        "MAE = round((mean_absolute_error(y,predicao_y)),3)\r\n",
        "RMSE = round(sqrt(mean_squared_error(y,predicao_y)),3)\r\n",
        "R2 = round(r2_score(y,predicao_y)*100,2)\r\n",
        "avaliacaoModelos.append([modelo, origem, MAE, RMSE, R2])\r\n"
      ],
      "execution_count": null,
      "outputs": []
    },
    {
      "cell_type": "code",
      "metadata": {
        "id": "f-XT7LnBC2Jt"
      },
      "source": [
        "# MODELO: KNeighborsRegressor\r\n",
        "from sklearn import neighbors\r\n",
        "modelo = \"KNeighborsRegressor\"\r\n",
        "pipeline = make_pipeline (StandardScaler(), neighbors.KNeighborsRegressor(n_neighbors=10))\r\n",
        "\r\n",
        "#Treinando e avaliando Feature 2\r\n",
        "origem = \"Features 2\"\r\n",
        "X = dadosTreinamento_F2.drop(columns=\"rent amount (R$)\")\r\n",
        "y = dadosTreinamento_F2[\"rent amount (R$)\"]\r\n",
        "predicao_y = cross_val_predict (pipeline, X, y, cv=cross_validation)\r\n",
        "MAE = round((mean_absolute_error(y,predicao_y)),3)\r\n",
        "RMSE = round(sqrt(mean_squared_error(y,predicao_y)),3)\r\n",
        "R2 = round(r2_score(y,predicao_y)*100,2)\r\n",
        "avaliacaoModelos.append([modelo, origem, MAE, RMSE, R2])\r\n",
        "\r\n",
        "\r\n",
        "#Treinando e avaliando Feature 1\r\n",
        "# origem = \"Features 1)\"\r\n",
        "# X = dadosTreinamento_F1.drop(columns=\"rent amount (R$)\")\r\n",
        "# y = dadosTreinamento_F1[\"rent amount (R$)\"]\r\n",
        "# predicao_y = cross_val_predict (pipeline, X, y, cv=cross_validation)\r\n",
        "# MAE = round((mean_absolute_error(y,predicao_y)),3)\r\n",
        "# RMSE = round(sqrt(mean_squared_error(y,predicao_y)),3)\r\n",
        "# R2 = round(r2_score(y,predicao_y)*100,2)\r\n",
        "# avaliacaoModelos.append([modelo, origem, MAE, RMSE, R2])\r\n",
        "\r\n",
        "#Treinando e avaliando Todas as Features \r\n",
        "origem = \"Todas as Features\"\r\n",
        "X = dadosTreinamento_Ori.drop(columns=\"rent amount (R$)\")\r\n",
        "y = dadosTreinamento_Ori[\"rent amount (R$)\"]\r\n",
        "predicao_y = cross_val_predict (pipeline, X, y, cv=cross_validation)\r\n",
        "MAE = round((mean_absolute_error(y,predicao_y)),3)\r\n",
        "RMSE = round(sqrt(mean_squared_error(y,predicao_y)),3)\r\n",
        "R2 = round(r2_score(y,predicao_y)*100,2)\r\n",
        "avaliacaoModelos.append([modelo, origem, MAE, RMSE, R2])\r\n"
      ],
      "execution_count": null,
      "outputs": []
    },
    {
      "cell_type": "code",
      "metadata": {
        "id": "LC7509JIGS75"
      },
      "source": [
        "# MODELO: \r\n",
        "from sklearn.ensemble import RandomForestRegressor\r\n",
        "modelo = \"RandomForestRegressor\"\r\n",
        "pipeline = make_pipeline (StandardScaler(), RandomForestRegressor(n_estimators=10, random_state=seed))\r\n",
        "\r\n",
        "#Treinando e avaliando Feature 2\r\n",
        "origem = \"Features 2\"\r\n",
        "X = dadosTreinamento_F2.drop(columns=\"rent amount (R$)\")\r\n",
        "y = dadosTreinamento_F2[\"rent amount (R$)\"]\r\n",
        "predicao_y = cross_val_predict (pipeline, X, y, cv=cross_validation)\r\n",
        "MAE = round((mean_absolute_error(y,predicao_y)),3)\r\n",
        "RMSE = round(sqrt(mean_squared_error(y,predicao_y)),3)\r\n",
        "R2 = round(r2_score(y,predicao_y)*100,2)\r\n",
        "avaliacaoModelos.append([modelo, origem, MAE, RMSE, R2])\r\n",
        "\r\n",
        "\r\n",
        "# #Treinando e avaliando Feature 1\r\n",
        "# origem = \"Features 1\"\r\n",
        "# X = dadosTreinamento_F1.drop(columns=\"rent amount (R$)\")\r\n",
        "# y = dadosTreinamento_F1[\"rent amount (R$)\"]\r\n",
        "# predicao_y = cross_val_predict (pipeline, X, y, cv=cross_validation)\r\n",
        "# MAE = round((mean_absolute_error(y,predicao_y)),3)\r\n",
        "# RMSE = round(sqrt(mean_squared_error(y,predicao_y)),3)\r\n",
        "# R2 = round(r2_score(y,predicao_y)*100,2)\r\n",
        "# avaliacaoModelos.append([modelo, origem, MAE, RMSE, R2])\r\n",
        "\r\n",
        "#Treinando e avaliando Todas as Features \r\n",
        "origem = \"Todas as Features\"\r\n",
        "X = dadosTreinamento_Ori.drop(columns=\"rent amount (R$)\")\r\n",
        "y = dadosTreinamento_Ori[\"rent amount (R$)\"]\r\n",
        "predicao_y = cross_val_predict (pipeline, X, y, cv=cross_validation)\r\n",
        "MAE = round((mean_absolute_error(y,predicao_y)),3)\r\n",
        "RMSE = round(sqrt(mean_squared_error(y,predicao_y)),3)\r\n",
        "R2 = round(r2_score(y,predicao_y)*100,2)\r\n",
        "avaliacaoModelos.append([modelo, origem, MAE, RMSE, R2])\r\n"
      ],
      "execution_count": null,
      "outputs": []
    },
    {
      "cell_type": "code",
      "metadata": {
        "id": "zLp7naomH1LT"
      },
      "source": [
        "# MODELO: \r\n",
        "from sklearn.tree import DecisionTreeRegressor\r\n",
        "modelo = \"DecisionTreeRegressor\"\r\n",
        "pipeline = make_pipeline (StandardScaler(), DecisionTreeRegressor() )\r\n",
        "\r\n",
        "#Treinando e avaliando Feature 2\r\n",
        "origem = \"Features 2\"\r\n",
        "X = dadosTreinamento_F2.drop(columns=\"rent amount (R$)\")\r\n",
        "y = dadosTreinamento_F2[\"rent amount (R$)\"]\r\n",
        "predicao_y = cross_val_predict (pipeline, X, y, cv=cross_validation)\r\n",
        "MAE = round((mean_absolute_error(y,predicao_y)),3)\r\n",
        "RMSE = round(sqrt(mean_squared_error(y,predicao_y)),3)\r\n",
        "R2 = round(r2_score(y,predicao_y)*100,2)\r\n",
        "avaliacaoModelos.append([modelo, origem, MAE, RMSE, R2])\r\n",
        "\r\n",
        "\r\n",
        "# #Treinando e avaliando Feature 1\r\n",
        "# origem = \"Features 1\"\r\n",
        "# X = dadosTreinamento_F1.drop(columns=\"rent amount (R$)\")\r\n",
        "# y = dadosTreinamento_F1[\"rent amount (R$)\"]\r\n",
        "# predicao_y = cross_val_predict (pipeline, X, y, cv=cross_validation)\r\n",
        "# MAE = round((mean_absolute_error(y,predicao_y)),3)\r\n",
        "# RMSE = round(sqrt(mean_squared_error(y,predicao_y)),3)\r\n",
        "# R2 = round(r2_score(y,predicao_y)*100,2)\r\n",
        "# avaliacaoModelos.append([modelo, origem, MAE, RMSE, R2])\r\n",
        "\r\n",
        "#Treinando e avaliando Todas as Features \r\n",
        "origem = \"Todas as Features\"\r\n",
        "X = dadosTreinamento_Ori.drop(columns=\"rent amount (R$)\")\r\n",
        "y = dadosTreinamento_Ori[\"rent amount (R$)\"]\r\n",
        "predicao_y = cross_val_predict (pipeline, X, y, cv=cross_validation)\r\n",
        "MAE = round((mean_absolute_error(y,predicao_y)),3)\r\n",
        "RMSE = round(sqrt(mean_squared_error(y,predicao_y)),3)\r\n",
        "R2 = round(r2_score(y,predicao_y)*100,2)\r\n",
        "avaliacaoModelos.append([modelo, origem, MAE, RMSE, R2])\r\n"
      ],
      "execution_count": null,
      "outputs": []
    },
    {
      "cell_type": "code",
      "metadata": {
        "colab": {
          "base_uri": "https://localhost:8080/"
        },
        "id": "A3SPCJ5E9Yqn",
        "outputId": "b3c59b41-7004-4ff5-cbd9-a26273bf4df7"
      },
      "source": [
        "df_res = pd.DataFrame(avaliacaoModelos, columns=[\"Modelo ML\", \"Features\", \"MAE\", \"RMSE\", \"R2\"]) #Armazena o resultado dos testes preliminares\r\n",
        "print (\"========================================\")\r\n",
        "print(\"Segundo o especialista, o melhor parametro de avaliação é o MAE (Erro Médio Absoluto)\")\r\n",
        "print(\"Então o melhor modelo está no topo da lista (segundo uma análise preliminar)\")\r\n",
        "print (\"========================================\")\r\n",
        "df_res.sort_values(by=['MAE', 'R2'])"
      ],
      "execution_count": null,
      "outputs": [
        {
          "output_type": "stream",
          "text": [
            "========================================\n",
            "Segundo o especialista, o melhor parametro de avaliação é o MAE (Erro Médio Absoluto)\n",
            "Então o melhor modelo está no topo da lista (segundo uma análise preliminar)\n",
            "========================================\n"
          ],
          "name": "stdout"
        },
        {
          "output_type": "execute_result",
          "data": {
            "text/html": [
              "<div>\n",
              "<style scoped>\n",
              "    .dataframe tbody tr th:only-of-type {\n",
              "        vertical-align: middle;\n",
              "    }\n",
              "\n",
              "    .dataframe tbody tr th {\n",
              "        vertical-align: top;\n",
              "    }\n",
              "\n",
              "    .dataframe thead th {\n",
              "        text-align: right;\n",
              "    }\n",
              "</style>\n",
              "<table border=\"1\" class=\"dataframe\">\n",
              "  <thead>\n",
              "    <tr style=\"text-align: right;\">\n",
              "      <th></th>\n",
              "      <th>Modelo ML</th>\n",
              "      <th>Features</th>\n",
              "      <th>MAE</th>\n",
              "      <th>RMSE</th>\n",
              "      <th>R2</th>\n",
              "    </tr>\n",
              "  </thead>\n",
              "  <tbody>\n",
              "    <tr>\n",
              "      <th>1</th>\n",
              "      <td>Regressão Linear</td>\n",
              "      <td>Todas as Features</td>\n",
              "      <td>0.728</td>\n",
              "      <td>6.820</td>\n",
              "      <td>100.00</td>\n",
              "    </tr>\n",
              "    <tr>\n",
              "      <th>7</th>\n",
              "      <td>DecisionTreeRegressor</td>\n",
              "      <td>Todas as Features</td>\n",
              "      <td>68.033</td>\n",
              "      <td>360.761</td>\n",
              "      <td>98.91</td>\n",
              "    </tr>\n",
              "    <tr>\n",
              "      <th>5</th>\n",
              "      <td>RandomForestRegressor</td>\n",
              "      <td>Todas as Features</td>\n",
              "      <td>68.298</td>\n",
              "      <td>345.342</td>\n",
              "      <td>99.00</td>\n",
              "    </tr>\n",
              "    <tr>\n",
              "      <th>4</th>\n",
              "      <td>RandomForestRegressor</td>\n",
              "      <td>Features 2</td>\n",
              "      <td>232.074</td>\n",
              "      <td>535.394</td>\n",
              "      <td>97.59</td>\n",
              "    </tr>\n",
              "    <tr>\n",
              "      <th>6</th>\n",
              "      <td>DecisionTreeRegressor</td>\n",
              "      <td>Features 2</td>\n",
              "      <td>242.524</td>\n",
              "      <td>612.020</td>\n",
              "      <td>96.86</td>\n",
              "    </tr>\n",
              "    <tr>\n",
              "      <th>2</th>\n",
              "      <td>KNeighborsRegressor</td>\n",
              "      <td>Features 2</td>\n",
              "      <td>323.319</td>\n",
              "      <td>646.985</td>\n",
              "      <td>96.49</td>\n",
              "    </tr>\n",
              "    <tr>\n",
              "      <th>0</th>\n",
              "      <td>Regressão Linear</td>\n",
              "      <td>Features 2</td>\n",
              "      <td>341.743</td>\n",
              "      <td>542.505</td>\n",
              "      <td>97.53</td>\n",
              "    </tr>\n",
              "    <tr>\n",
              "      <th>3</th>\n",
              "      <td>KNeighborsRegressor</td>\n",
              "      <td>Todas as Features</td>\n",
              "      <td>519.687</td>\n",
              "      <td>888.909</td>\n",
              "      <td>93.37</td>\n",
              "    </tr>\n",
              "  </tbody>\n",
              "</table>\n",
              "</div>"
            ],
            "text/plain": [
              "               Modelo ML           Features      MAE     RMSE      R2\n",
              "1       Regressão Linear  Todas as Features    0.728    6.820  100.00\n",
              "7  DecisionTreeRegressor  Todas as Features   68.033  360.761   98.91\n",
              "5  RandomForestRegressor  Todas as Features   68.298  345.342   99.00\n",
              "4  RandomForestRegressor         Features 2  232.074  535.394   97.59\n",
              "6  DecisionTreeRegressor         Features 2  242.524  612.020   96.86\n",
              "2    KNeighborsRegressor         Features 2  323.319  646.985   96.49\n",
              "0       Regressão Linear         Features 2  341.743  542.505   97.53\n",
              "3    KNeighborsRegressor  Todas as Features  519.687  888.909   93.37"
            ]
          },
          "metadata": {
            "tags": []
          },
          "execution_count": 32
        }
      ]
    },
    {
      "cell_type": "markdown",
      "metadata": {
        "id": "oo0zR63w9IfK"
      },
      "source": [
        "O melhor resultado foi: \r\n",
        "\r\n",
        "Regressão Linear com Todas as Features \t\r\n",
        "MAE 0.728 \tRMSE 6.820 \tR2 100.00"
      ]
    },
    {
      "cell_type": "markdown",
      "metadata": {
        "id": "Du0sWT2jMgV9"
      },
      "source": [
        "# Ajustando o modelo\r\n"
      ]
    },
    {
      "cell_type": "code",
      "metadata": {
        "colab": {
          "base_uri": "https://localhost:8080/"
        },
        "id": "7z4_1GrjMkS8",
        "outputId": "6c8c593d-1e6d-4886-d735-e4cf15e6e2cb"
      },
      "source": [
        "#demora, mas menos de 1 minuto\r\n",
        "from sklearn.model_selection import GridSearchCV\r\n",
        "\r\n",
        "param_grid = {'fit_intercept':[True,False], 'normalize':[True,False], 'copy_X':[True, False]}\r\n",
        "X = dadosTreinamento_Ori.drop(columns=\"rent amount (R$)\")\r\n",
        "y = dadosTreinamento_Ori[\"rent amount (R$)\"]\r\n",
        "linear_reg = LinearRegression( )\r\n",
        "\r\n",
        "\r\n",
        "grid_search = GridSearchCV(linear_reg, param_grid, cv=5,\r\n",
        "                           scoring='neg_mean_absolute_error',\r\n",
        "                           return_train_score=True)\r\n",
        "\r\n",
        "grid_search.fit(X, y)"
      ],
      "execution_count": null,
      "outputs": [
        {
          "output_type": "execute_result",
          "data": {
            "text/plain": [
              "GridSearchCV(cv=5, error_score=nan,\n",
              "             estimator=LinearRegression(copy_X=True, fit_intercept=True,\n",
              "                                        n_jobs=None, normalize=False),\n",
              "             iid='deprecated', n_jobs=None,\n",
              "             param_grid={'copy_X': [True, False],\n",
              "                         'fit_intercept': [True, False],\n",
              "                         'normalize': [True, False]},\n",
              "             pre_dispatch='2*n_jobs', refit=True, return_train_score=True,\n",
              "             scoring='neg_mean_absolute_error', verbose=0)"
            ]
          },
          "metadata": {
            "tags": []
          },
          "execution_count": 33
        }
      ]
    },
    {
      "cell_type": "code",
      "metadata": {
        "colab": {
          "base_uri": "https://localhost:8080/"
        },
        "id": "R8gWB_oVNFyD",
        "outputId": "fb7939e0-310f-4f7a-a6a2-08a65956f726"
      },
      "source": [
        "grid_search.best_params_"
      ],
      "execution_count": null,
      "outputs": [
        {
          "output_type": "execute_result",
          "data": {
            "text/plain": [
              "{'copy_X': True, 'fit_intercept': True, 'normalize': False}"
            ]
          },
          "metadata": {
            "tags": []
          },
          "execution_count": 34
        }
      ]
    },
    {
      "cell_type": "markdown",
      "metadata": {
        "id": "d5tzahwiIFjn"
      },
      "source": [
        "# Teste Final\r\n",
        "\r\n",
        "Fazer teste final para obter um erro aproximado, neste caso, MAE.\r\n",
        "{'copy_X': True, 'fit_intercept': True, 'normalize': False}\r\n",
        "\r\n"
      ]
    },
    {
      "cell_type": "code",
      "metadata": {
        "colab": {
          "base_uri": "https://localhost:8080/"
        },
        "id": "78BMruucKBUn",
        "outputId": "f3fa655e-3f96-42b5-ca1f-77762cf8731d"
      },
      "source": [
        "pipelinefinal = make_pipeline (StandardScaler(), LinearRegression(fit_intercept=True, copy_X=True, normalize=False))\r\n",
        "\r\n",
        "#Treinando e avaliando\r\n",
        "origem = \"Todas as Features\"\r\n",
        "X = dadosTeste_Ori.drop(columns=\"rent amount (R$)\")\r\n",
        "y = dadosTeste_Ori[\"rent amount (R$)\"]\r\n",
        "predicao_y = cross_val_predict (pipelinefinal, X, y, cv=cross_validation)\r\n",
        "MAE = round((mean_absolute_error(y,predicao_y)),3)\r\n",
        "RMSE = round(sqrt(mean_squared_error(y,predicao_y)),3)\r\n",
        "R2 = round(r2_score(y,predicao_y)*100,2)\r\n",
        "print(\"Melhor modelo: Regressão Linear\")\r\n",
        "print('  MAE,   RMSE,  R2')\r\n",
        "print([MAE, RMSE, R2])"
      ],
      "execution_count": null,
      "outputs": [
        {
          "output_type": "stream",
          "text": [
            "Melhor modelo: Regressão Linear\n",
            "  MAE,   RMSE,  R2\n",
            "[0.404, 1.027, 100.0]\n"
          ],
          "name": "stdout"
        }
      ]
    }
  ]
}